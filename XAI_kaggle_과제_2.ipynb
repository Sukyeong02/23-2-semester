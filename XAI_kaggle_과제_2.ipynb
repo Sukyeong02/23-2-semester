{
  "nbformat": 4,
  "nbformat_minor": 0,
  "metadata": {
    "colab": {
      "provenance": [],
      "gpuType": "T4",
      "mount_file_id": "10KNu6bHh0j48ziibEso_xXWG9PMZvROq",
      "authorship_tag": "ABX9TyNs/joYpJspnB78vCoKB3E6",
      "include_colab_link": true
    },
    "kernelspec": {
      "name": "python3",
      "display_name": "Python 3"
    },
    "language_info": {
      "name": "python"
    },
    "accelerator": "GPU"
  },
  "cells": [
    {
      "cell_type": "markdown",
      "metadata": {
        "id": "view-in-github",
        "colab_type": "text"
      },
      "source": [
        "<a href=\"https://colab.research.google.com/github/Sukyeong02/23-2-/blob/main/XAI_kaggle_%EA%B3%BC%EC%A0%9C_2.ipynb\" target=\"_parent\"><img src=\"https://colab.research.google.com/assets/colab-badge.svg\" alt=\"Open In Colab\"/></a>"
      ]
    },
    {
      "cell_type": "code",
      "execution_count": null,
      "metadata": {
        "id": "Uo1-InqXqLiZ"
      },
      "outputs": [],
      "source": [
        "import numpy as np\n",
        "from tensorflow import keras\n",
        "from keras.models import Sequential\n",
        "from keras.layers import Dense, Flatten, Input, BatchNormalization, Dropout, Conv2D, MaxPooling2D\n",
        "from keras.callbacks import EarlyStopping, ModelCheckpoint"
      ]
    },
    {
      "cell_type": "code",
      "source": [
        "data = np.load('/content/drive/MyDrive/23-2학기 코딩 수업/설명가능한기계학습/train.npz')\n",
        "print(data.files)\n",
        "x_train = data['x']\n",
        "y_train = data['y']"
      ],
      "metadata": {
        "colab": {
          "base_uri": "https://localhost:8080/"
        },
        "id": "5Jlx41PWqVol",
        "outputId": "32761ddb-e8c9-48a0-e6ab-40a27a0bb95b"
      },
      "execution_count": null,
      "outputs": [
        {
          "output_type": "stream",
          "name": "stdout",
          "text": [
            "['x', 'y']\n"
          ]
        }
      ]
    },
    {
      "cell_type": "code",
      "source": [
        "from sklearn.model_selection import train_test_split\n",
        "\n",
        "x_train_scaled = x_train / 255.0\n",
        "\n",
        "x_train_scaled, x_val_scaled, y_train, y_val = train_test_split(x_train_scaled, y_train, train_size=0.8, random_state=42)"
      ],
      "metadata": {
        "id": "EX7Iaud9qVko"
      },
      "execution_count": null,
      "outputs": []
    },
    {
      "cell_type": "code",
      "source": [
        "# x_train_scaled = np.expand_dims(x_train_scaled, axis=-1)\n",
        "# x_val_scaled = np.expand_dims(x_val_scaled, axis=-1)"
      ],
      "metadata": {
        "id": "iZzE3wekqVh5"
      },
      "execution_count": null,
      "outputs": []
    },
    {
      "cell_type": "code",
      "source": [
        "model = Sequential()\n",
        "model.add(Input(shape=(224,224)))\n",
        "model.add(Flatten())\n",
        "model.add(BatchNormalization())\n",
        "model.add(Dense(512, activation=\"relu\"))\n",
        "model.add(Dropout(0.5))\n",
        "model.add(Dense(256, activation=\"relu\"))\n",
        "# model.add(Dropout(0.5))\n",
        "# model.add(Dense(128, activation=\"relu\"))\n",
        "# model.add(Dropout(0.5))\n",
        "model.add(Dropout(0.3))\n",
        "# model.add(Dense(64, activation=\"relu\"))\n",
        "model.add(Dense(32, activation=\"relu\"))\n",
        "# model.add(Dropout(0.3))\n",
        "# model.add(Dense(16, activation=\"relu\"))\n",
        "# model.add(Dropout(0.3))\n",
        "# model.add(Dense(8, activation=\"relu\"))\n",
        "model.add(Dense(4, activation=\"softmax\"))"
      ],
      "metadata": {
        "id": "l2qRGgnz63c4"
      },
      "execution_count": null,
      "outputs": []
    },
    {
      "cell_type": "code",
      "source": [
        "# early_stopping_callback = EarlyStopping(monitor='val_loss', patience=10, restore_best_weights=True)"
      ],
      "metadata": {
        "id": "12AxkZ8Lvtoz"
      },
      "execution_count": null,
      "outputs": []
    },
    {
      "cell_type": "code",
      "source": [
        "checkpoint_callback = ModelCheckpoint('/content/drive/MyDrive/best_model.h5', monitor='val_loss', save_best_only=True, verbose=0)"
      ],
      "metadata": {
        "id": "RgzZZ_2Yvtff"
      },
      "execution_count": null,
      "outputs": []
    },
    {
      "cell_type": "code",
      "source": [
        "model.compile( optimizer='adam', loss=\"sparse_categorical_crossentropy\", metrics=[\"accuracy\"])"
      ],
      "metadata": {
        "id": "lITjTzL0SgqK"
      },
      "execution_count": null,
      "outputs": []
    },
    {
      "cell_type": "code",
      "source": [
        "history = model.fit(x_train_scaled, y_train, epochs=100, verbose=2, validation_data=(x_val_scaled, y_val), callbacks=[checkpoint_callback])"
      ],
      "metadata": {
        "colab": {
          "base_uri": "https://localhost:8080/"
        },
        "id": "G1TUUdUjvr_o",
        "outputId": "a40901b9-3a14-42a3-d4d7-c92d6ec62db2"
      },
      "execution_count": null,
      "outputs": [
        {
          "output_type": "stream",
          "name": "stdout",
          "text": [
            "Epoch 1/100\n",
            "30/30 - 9s - loss: 13.7698 - accuracy: 0.4906 - val_loss: 4.0355 - val_accuracy: 0.4917 - 9s/epoch - 288ms/step\n",
            "Epoch 2/100\n",
            "30/30 - 2s - loss: 7.6408 - accuracy: 0.5510 - val_loss: 1.2406 - val_accuracy: 0.3792 - 2s/epoch - 56ms/step\n",
            "Epoch 3/100\n",
            "30/30 - 0s - loss: 3.7625 - accuracy: 0.5437 - val_loss: 1.3859 - val_accuracy: 0.2750 - 430ms/epoch - 14ms/step\n",
            "Epoch 4/100\n",
            "30/30 - 0s - loss: 2.4847 - accuracy: 0.5604 - val_loss: 1.3274 - val_accuracy: 0.3167 - 405ms/epoch - 14ms/step\n",
            "Epoch 5/100\n",
            "30/30 - 0s - loss: 1.7467 - accuracy: 0.5740 - val_loss: 1.2964 - val_accuracy: 0.3292 - 426ms/epoch - 14ms/step\n",
            "Epoch 6/100\n",
            "30/30 - 2s - loss: 1.3920 - accuracy: 0.5729 - val_loss: 1.1047 - val_accuracy: 0.4333 - 2s/epoch - 80ms/step\n",
            "Epoch 7/100\n",
            "30/30 - 5s - loss: 1.1068 - accuracy: 0.5417 - val_loss: 1.1022 - val_accuracy: 0.3875 - 5s/epoch - 171ms/step\n",
            "Epoch 8/100\n",
            "30/30 - 0s - loss: 1.0839 - accuracy: 0.5302 - val_loss: 1.1163 - val_accuracy: 0.5250 - 425ms/epoch - 14ms/step\n",
            "Epoch 9/100\n",
            "30/30 - 4s - loss: 1.0202 - accuracy: 0.5479 - val_loss: 0.8957 - val_accuracy: 0.6292 - 4s/epoch - 147ms/step\n",
            "Epoch 10/100\n",
            "30/30 - 5s - loss: 0.9402 - accuracy: 0.6198 - val_loss: 0.7728 - val_accuracy: 0.7083 - 5s/epoch - 165ms/step\n",
            "Epoch 11/100\n",
            "30/30 - 3s - loss: 0.9245 - accuracy: 0.6375 - val_loss: 0.7084 - val_accuracy: 0.6958 - 3s/epoch - 104ms/step\n",
            "Epoch 12/100\n",
            "30/30 - 2s - loss: 0.8900 - accuracy: 0.6406 - val_loss: 0.6611 - val_accuracy: 0.6958 - 2s/epoch - 72ms/step\n",
            "Epoch 13/100\n",
            "30/30 - 0s - loss: 0.8504 - accuracy: 0.6573 - val_loss: 0.6856 - val_accuracy: 0.6750 - 459ms/epoch - 15ms/step\n",
            "Epoch 14/100\n",
            "30/30 - 4s - loss: 0.8751 - accuracy: 0.6500 - val_loss: 0.6304 - val_accuracy: 0.7250 - 4s/epoch - 143ms/step\n",
            "Epoch 15/100\n",
            "30/30 - 5s - loss: 0.8197 - accuracy: 0.6615 - val_loss: 0.5799 - val_accuracy: 0.7583 - 5s/epoch - 166ms/step\n",
            "Epoch 16/100\n",
            "30/30 - 0s - loss: 0.8255 - accuracy: 0.6281 - val_loss: 0.6248 - val_accuracy: 0.7625 - 462ms/epoch - 15ms/step\n",
            "Epoch 17/100\n",
            "30/30 - 5s - loss: 0.7096 - accuracy: 0.6896 - val_loss: 0.5509 - val_accuracy: 0.7292 - 5s/epoch - 154ms/step\n",
            "Epoch 18/100\n",
            "30/30 - 0s - loss: 0.7042 - accuracy: 0.6865 - val_loss: 0.5734 - val_accuracy: 0.7167 - 458ms/epoch - 15ms/step\n",
            "Epoch 19/100\n",
            "30/30 - 4s - loss: 0.6480 - accuracy: 0.7208 - val_loss: 0.5317 - val_accuracy: 0.7333 - 4s/epoch - 137ms/step\n",
            "Epoch 20/100\n",
            "30/30 - 2s - loss: 0.6654 - accuracy: 0.7375 - val_loss: 0.5197 - val_accuracy: 0.7458 - 2s/epoch - 57ms/step\n",
            "Epoch 21/100\n",
            "30/30 - 4s - loss: 0.5765 - accuracy: 0.7417 - val_loss: 0.4912 - val_accuracy: 0.7917 - 4s/epoch - 123ms/step\n",
            "Epoch 22/100\n",
            "30/30 - 1s - loss: 0.6248 - accuracy: 0.7458 - val_loss: 0.5015 - val_accuracy: 0.8167 - 517ms/epoch - 17ms/step\n",
            "Epoch 23/100\n",
            "30/30 - 1s - loss: 0.5472 - accuracy: 0.7427 - val_loss: 0.5575 - val_accuracy: 0.8042 - 512ms/epoch - 17ms/step\n",
            "Epoch 24/100\n",
            "30/30 - 0s - loss: 0.5559 - accuracy: 0.7469 - val_loss: 0.4912 - val_accuracy: 0.8208 - 494ms/epoch - 16ms/step\n",
            "Epoch 25/100\n",
            "30/30 - 1s - loss: 0.5918 - accuracy: 0.7365 - val_loss: 0.5616 - val_accuracy: 0.6667 - 514ms/epoch - 17ms/step\n",
            "Epoch 26/100\n",
            "30/30 - 3s - loss: 0.5791 - accuracy: 0.7583 - val_loss: 0.4867 - val_accuracy: 0.8417 - 3s/epoch - 100ms/step\n",
            "Epoch 27/100\n",
            "30/30 - 1s - loss: 0.5785 - accuracy: 0.7510 - val_loss: 0.4917 - val_accuracy: 0.7417 - 533ms/epoch - 18ms/step\n",
            "Epoch 28/100\n",
            "30/30 - 0s - loss: 0.5847 - accuracy: 0.7531 - val_loss: 0.5217 - val_accuracy: 0.6917 - 430ms/epoch - 14ms/step\n",
            "Epoch 29/100\n",
            "30/30 - 0s - loss: 0.5879 - accuracy: 0.7458 - val_loss: 0.5617 - val_accuracy: 0.6708 - 412ms/epoch - 14ms/step\n",
            "Epoch 30/100\n",
            "30/30 - 0s - loss: 0.5268 - accuracy: 0.7688 - val_loss: 0.4973 - val_accuracy: 0.8375 - 397ms/epoch - 13ms/step\n",
            "Epoch 31/100\n",
            "30/30 - 0s - loss: 0.5173 - accuracy: 0.7792 - val_loss: 0.4888 - val_accuracy: 0.7833 - 416ms/epoch - 14ms/step\n",
            "Epoch 32/100\n",
            "30/30 - 7s - loss: 0.4973 - accuracy: 0.8042 - val_loss: 0.4816 - val_accuracy: 0.7542 - 7s/epoch - 234ms/step\n",
            "Epoch 33/100\n",
            "30/30 - 0s - loss: 0.5297 - accuracy: 0.7896 - val_loss: 0.5141 - val_accuracy: 0.7333 - 451ms/epoch - 15ms/step\n",
            "Epoch 34/100\n",
            "30/30 - 5s - loss: 0.4911 - accuracy: 0.7729 - val_loss: 0.4801 - val_accuracy: 0.7417 - 5s/epoch - 162ms/step\n",
            "Epoch 35/100\n",
            "30/30 - 2s - loss: 0.4728 - accuracy: 0.7719 - val_loss: 0.4801 - val_accuracy: 0.7833 - 2s/epoch - 56ms/step\n",
            "Epoch 36/100\n",
            "30/30 - 0s - loss: 0.4908 - accuracy: 0.7854 - val_loss: 0.4802 - val_accuracy: 0.8500 - 425ms/epoch - 14ms/step\n",
            "Epoch 37/100\n",
            "30/30 - 4s - loss: 0.4624 - accuracy: 0.8021 - val_loss: 0.4568 - val_accuracy: 0.8417 - 4s/epoch - 121ms/step\n",
            "Epoch 38/100\n",
            "30/30 - 0s - loss: 0.4835 - accuracy: 0.7937 - val_loss: 0.4751 - val_accuracy: 0.8333 - 434ms/epoch - 14ms/step\n",
            "Epoch 39/100\n",
            "30/30 - 0s - loss: 0.4535 - accuracy: 0.8010 - val_loss: 0.4695 - val_accuracy: 0.7792 - 425ms/epoch - 14ms/step\n",
            "Epoch 40/100\n",
            "30/30 - 4s - loss: 0.4459 - accuracy: 0.7833 - val_loss: 0.4513 - val_accuracy: 0.8167 - 4s/epoch - 123ms/step\n",
            "Epoch 41/100\n",
            "30/30 - 1s - loss: 0.4177 - accuracy: 0.8240 - val_loss: 0.4633 - val_accuracy: 0.7875 - 524ms/epoch - 17ms/step\n",
            "Epoch 42/100\n",
            "30/30 - 0s - loss: 0.4124 - accuracy: 0.8344 - val_loss: 0.5148 - val_accuracy: 0.7458 - 497ms/epoch - 17ms/step\n",
            "Epoch 43/100\n",
            "30/30 - 0s - loss: 0.4689 - accuracy: 0.8031 - val_loss: 0.4820 - val_accuracy: 0.7708 - 490ms/epoch - 16ms/step\n",
            "Epoch 44/100\n",
            "30/30 - 1s - loss: 0.4392 - accuracy: 0.8021 - val_loss: 0.4577 - val_accuracy: 0.7708 - 521ms/epoch - 17ms/step\n",
            "Epoch 45/100\n",
            "30/30 - 1s - loss: 0.4712 - accuracy: 0.8260 - val_loss: 0.5117 - val_accuracy: 0.8417 - 522ms/epoch - 17ms/step\n",
            "Epoch 46/100\n",
            "30/30 - 1s - loss: 0.4734 - accuracy: 0.8156 - val_loss: 0.4697 - val_accuracy: 0.8458 - 527ms/epoch - 18ms/step\n",
            "Epoch 47/100\n",
            "30/30 - 1s - loss: 0.4470 - accuracy: 0.8198 - val_loss: 0.4604 - val_accuracy: 0.7792 - 502ms/epoch - 17ms/step\n",
            "Epoch 48/100\n",
            "30/30 - 6s - loss: 0.4229 - accuracy: 0.8208 - val_loss: 0.4407 - val_accuracy: 0.8000 - 6s/epoch - 201ms/step\n",
            "Epoch 49/100\n",
            "30/30 - 0s - loss: 0.3791 - accuracy: 0.8417 - val_loss: 0.4415 - val_accuracy: 0.8708 - 453ms/epoch - 15ms/step\n",
            "Epoch 50/100\n",
            "30/30 - 0s - loss: 0.4265 - accuracy: 0.8104 - val_loss: 0.4926 - val_accuracy: 0.8333 - 433ms/epoch - 14ms/step\n",
            "Epoch 51/100\n",
            "30/30 - 0s - loss: 0.3941 - accuracy: 0.8542 - val_loss: 0.4706 - val_accuracy: 0.7958 - 432ms/epoch - 14ms/step\n",
            "Epoch 52/100\n",
            "30/30 - 0s - loss: 0.3593 - accuracy: 0.8573 - val_loss: 0.5076 - val_accuracy: 0.7708 - 426ms/epoch - 14ms/step\n",
            "Epoch 53/100\n",
            "30/30 - 2s - loss: 0.4350 - accuracy: 0.8333 - val_loss: 0.4197 - val_accuracy: 0.8125 - 2s/epoch - 56ms/step\n",
            "Epoch 54/100\n",
            "30/30 - 0s - loss: 0.4274 - accuracy: 0.8438 - val_loss: 0.4632 - val_accuracy: 0.7833 - 439ms/epoch - 15ms/step\n",
            "Epoch 55/100\n",
            "30/30 - 0s - loss: 0.3992 - accuracy: 0.8594 - val_loss: 0.5275 - val_accuracy: 0.7625 - 421ms/epoch - 14ms/step\n",
            "Epoch 56/100\n",
            "30/30 - 0s - loss: 0.4059 - accuracy: 0.8448 - val_loss: 0.4612 - val_accuracy: 0.8292 - 427ms/epoch - 14ms/step\n",
            "Epoch 57/100\n",
            "30/30 - 5s - loss: 0.3527 - accuracy: 0.8719 - val_loss: 0.4045 - val_accuracy: 0.8208 - 5s/epoch - 175ms/step\n",
            "Epoch 58/100\n",
            "30/30 - 0s - loss: 0.4185 - accuracy: 0.8490 - val_loss: 0.4249 - val_accuracy: 0.8292 - 437ms/epoch - 15ms/step\n",
            "Epoch 59/100\n",
            "30/30 - 0s - loss: 0.4910 - accuracy: 0.8302 - val_loss: 0.4962 - val_accuracy: 0.7583 - 432ms/epoch - 14ms/step\n",
            "Epoch 60/100\n",
            "30/30 - 0s - loss: 0.4397 - accuracy: 0.8031 - val_loss: 0.4374 - val_accuracy: 0.8583 - 402ms/epoch - 13ms/step\n",
            "Epoch 61/100\n",
            "30/30 - 0s - loss: 0.3730 - accuracy: 0.8552 - val_loss: 0.4225 - val_accuracy: 0.8667 - 417ms/epoch - 14ms/step\n",
            "Epoch 62/100\n",
            "30/30 - 0s - loss: 0.3644 - accuracy: 0.8667 - val_loss: 0.4311 - val_accuracy: 0.8208 - 403ms/epoch - 13ms/step\n",
            "Epoch 63/100\n",
            "30/30 - 0s - loss: 0.4319 - accuracy: 0.8521 - val_loss: 0.4269 - val_accuracy: 0.8750 - 410ms/epoch - 14ms/step\n",
            "Epoch 64/100\n",
            "30/30 - 0s - loss: 0.3649 - accuracy: 0.8573 - val_loss: 0.4143 - val_accuracy: 0.8583 - 417ms/epoch - 14ms/step\n",
            "Epoch 65/100\n",
            "30/30 - 0s - loss: 0.3776 - accuracy: 0.8448 - val_loss: 0.4441 - val_accuracy: 0.7958 - 414ms/epoch - 14ms/step\n",
            "Epoch 66/100\n",
            "30/30 - 0s - loss: 0.3158 - accuracy: 0.8875 - val_loss: 0.4316 - val_accuracy: 0.8792 - 413ms/epoch - 14ms/step\n",
            "Epoch 67/100\n",
            "30/30 - 0s - loss: 0.3295 - accuracy: 0.8667 - val_loss: 0.5028 - val_accuracy: 0.7917 - 423ms/epoch - 14ms/step\n",
            "Epoch 68/100\n",
            "30/30 - 0s - loss: 0.3888 - accuracy: 0.8583 - val_loss: 0.4473 - val_accuracy: 0.8708 - 428ms/epoch - 14ms/step\n",
            "Epoch 69/100\n",
            "30/30 - 0s - loss: 0.3790 - accuracy: 0.8406 - val_loss: 0.4607 - val_accuracy: 0.7958 - 422ms/epoch - 14ms/step\n",
            "Epoch 70/100\n",
            "30/30 - 0s - loss: 0.3025 - accuracy: 0.9000 - val_loss: 0.4464 - val_accuracy: 0.8583 - 419ms/epoch - 14ms/step\n",
            "Epoch 71/100\n",
            "30/30 - 0s - loss: 0.3219 - accuracy: 0.8865 - val_loss: 0.4496 - val_accuracy: 0.8542 - 424ms/epoch - 14ms/step\n",
            "Epoch 72/100\n",
            "30/30 - 0s - loss: 0.3310 - accuracy: 0.8948 - val_loss: 0.4739 - val_accuracy: 0.8125 - 441ms/epoch - 15ms/step\n",
            "Epoch 73/100\n",
            "30/30 - 0s - loss: 0.3270 - accuracy: 0.8802 - val_loss: 0.4129 - val_accuracy: 0.8417 - 414ms/epoch - 14ms/step\n",
            "Epoch 74/100\n",
            "30/30 - 0s - loss: 0.3079 - accuracy: 0.8875 - val_loss: 0.4097 - val_accuracy: 0.8792 - 410ms/epoch - 14ms/step\n",
            "Epoch 75/100\n",
            "30/30 - 0s - loss: 0.3510 - accuracy: 0.8760 - val_loss: 0.4585 - val_accuracy: 0.8375 - 413ms/epoch - 14ms/step\n",
            "Epoch 76/100\n",
            "30/30 - 0s - loss: 0.3398 - accuracy: 0.8760 - val_loss: 0.4250 - val_accuracy: 0.8417 - 435ms/epoch - 14ms/step\n",
            "Epoch 77/100\n",
            "30/30 - 0s - loss: 0.3506 - accuracy: 0.8625 - val_loss: 0.5095 - val_accuracy: 0.7792 - 437ms/epoch - 15ms/step\n",
            "Epoch 78/100\n",
            "30/30 - 0s - loss: 0.3530 - accuracy: 0.8698 - val_loss: 0.4159 - val_accuracy: 0.8667 - 417ms/epoch - 14ms/step\n",
            "Epoch 79/100\n",
            "30/30 - 0s - loss: 0.3099 - accuracy: 0.8896 - val_loss: 0.4308 - val_accuracy: 0.8833 - 433ms/epoch - 14ms/step\n",
            "Epoch 80/100\n",
            "30/30 - 4s - loss: 0.3618 - accuracy: 0.8625 - val_loss: 0.3919 - val_accuracy: 0.8875 - 4s/epoch - 117ms/step\n",
            "Epoch 81/100\n",
            "30/30 - 1s - loss: 0.3527 - accuracy: 0.8823 - val_loss: 0.4015 - val_accuracy: 0.8500 - 547ms/epoch - 18ms/step\n",
            "Epoch 82/100\n",
            "30/30 - 1s - loss: 0.3142 - accuracy: 0.8854 - val_loss: 0.4170 - val_accuracy: 0.8583 - 511ms/epoch - 17ms/step\n",
            "Epoch 83/100\n",
            "30/30 - 1s - loss: 0.3508 - accuracy: 0.8708 - val_loss: 0.5301 - val_accuracy: 0.8375 - 534ms/epoch - 18ms/step\n",
            "Epoch 84/100\n",
            "30/30 - 5s - loss: 0.3013 - accuracy: 0.9031 - val_loss: 0.3820 - val_accuracy: 0.8917 - 5s/epoch - 183ms/step\n",
            "Epoch 85/100\n",
            "30/30 - 0s - loss: 0.3542 - accuracy: 0.8854 - val_loss: 0.5318 - val_accuracy: 0.7708 - 446ms/epoch - 15ms/step\n",
            "Epoch 86/100\n",
            "30/30 - 0s - loss: 0.3374 - accuracy: 0.8708 - val_loss: 0.4430 - val_accuracy: 0.8542 - 433ms/epoch - 14ms/step\n",
            "Epoch 87/100\n",
            "30/30 - 0s - loss: 0.2602 - accuracy: 0.9073 - val_loss: 0.4084 - val_accuracy: 0.8708 - 412ms/epoch - 14ms/step\n",
            "Epoch 88/100\n",
            "30/30 - 0s - loss: 0.2208 - accuracy: 0.9281 - val_loss: 0.4529 - val_accuracy: 0.8208 - 416ms/epoch - 14ms/step\n",
            "Epoch 89/100\n",
            "30/30 - 0s - loss: 0.2238 - accuracy: 0.9250 - val_loss: 0.5199 - val_accuracy: 0.8167 - 438ms/epoch - 15ms/step\n",
            "Epoch 90/100\n",
            "30/30 - 0s - loss: 0.4042 - accuracy: 0.9042 - val_loss: 0.6121 - val_accuracy: 0.7667 - 412ms/epoch - 14ms/step\n",
            "Epoch 91/100\n",
            "30/30 - 0s - loss: 0.4110 - accuracy: 0.8406 - val_loss: 0.4667 - val_accuracy: 0.8625 - 430ms/epoch - 14ms/step\n",
            "Epoch 92/100\n",
            "30/30 - 0s - loss: 0.3368 - accuracy: 0.8625 - val_loss: 0.4303 - val_accuracy: 0.8083 - 437ms/epoch - 15ms/step\n",
            "Epoch 93/100\n",
            "30/30 - 0s - loss: 0.4130 - accuracy: 0.8281 - val_loss: 0.4406 - val_accuracy: 0.8500 - 410ms/epoch - 14ms/step\n",
            "Epoch 94/100\n",
            "30/30 - 0s - loss: 0.2947 - accuracy: 0.8917 - val_loss: 0.4102 - val_accuracy: 0.8500 - 433ms/epoch - 14ms/step\n",
            "Epoch 95/100\n",
            "30/30 - 0s - loss: 0.3051 - accuracy: 0.9031 - val_loss: 0.4567 - val_accuracy: 0.8125 - 415ms/epoch - 14ms/step\n",
            "Epoch 96/100\n",
            "30/30 - 1s - loss: 0.3219 - accuracy: 0.8896 - val_loss: 0.3827 - val_accuracy: 0.8708 - 508ms/epoch - 17ms/step\n",
            "Epoch 97/100\n",
            "30/30 - 1s - loss: 0.2748 - accuracy: 0.9083 - val_loss: 0.4047 - val_accuracy: 0.8542 - 504ms/epoch - 17ms/step\n",
            "Epoch 98/100\n",
            "30/30 - 1s - loss: 0.3314 - accuracy: 0.8760 - val_loss: 0.5265 - val_accuracy: 0.7917 - 518ms/epoch - 17ms/step\n",
            "Epoch 99/100\n",
            "30/30 - 1s - loss: 0.2463 - accuracy: 0.9260 - val_loss: 0.4402 - val_accuracy: 0.8167 - 513ms/epoch - 17ms/step\n",
            "Epoch 100/100\n",
            "30/30 - 0s - loss: 0.2649 - accuracy: 0.9042 - val_loss: 0.4564 - val_accuracy: 0.8625 - 491ms/epoch - 16ms/step\n"
          ]
        }
      ]
    },
    {
      "cell_type": "code",
      "source": [
        "from keras.models import load_model\n",
        "model = load_model('/content/drive/MyDrive/best_model.h5')"
      ],
      "metadata": {
        "id": "2Gjs2ZnLSooG"
      },
      "execution_count": null,
      "outputs": []
    },
    {
      "cell_type": "code",
      "source": [
        "model.evaluate(x_val_scaled, y_val)"
      ],
      "metadata": {
        "id": "HviW_UhFqVbg",
        "colab": {
          "base_uri": "https://localhost:8080/"
        },
        "outputId": "ac8bb015-5df6-4f9d-a1b3-a94bc3b4641b"
      },
      "execution_count": null,
      "outputs": [
        {
          "output_type": "stream",
          "name": "stdout",
          "text": [
            "8/8 [==============================] - 0s 6ms/step - loss: 0.3820 - accuracy: 0.8917\n"
          ]
        },
        {
          "output_type": "execute_result",
          "data": {
            "text/plain": [
              "[0.38204342126846313, 0.8916666507720947]"
            ]
          },
          "metadata": {},
          "execution_count": 151
        }
      ]
    },
    {
      "cell_type": "code",
      "source": [
        "data = np.load(\"/content/drive/MyDrive/23-2학기 코딩 수업/설명가능한기계학습/test.npz\")\n",
        "print(data.files)\n",
        "x_test = data['x']"
      ],
      "metadata": {
        "id": "exnvKV27qVXy",
        "colab": {
          "base_uri": "https://localhost:8080/"
        },
        "outputId": "88a901ba-dd8a-44ab-8b0b-4349a3ae4931"
      },
      "execution_count": null,
      "outputs": [
        {
          "output_type": "stream",
          "name": "stdout",
          "text": [
            "['x']\n"
          ]
        }
      ]
    },
    {
      "cell_type": "code",
      "source": [
        "x_test_scaled = x_test / 255.0\n",
        "predictions = model.predict(x_test_scaled)"
      ],
      "metadata": {
        "id": "X0AkEu5mqVV6",
        "colab": {
          "base_uri": "https://localhost:8080/"
        },
        "outputId": "0667f08b-bd65-4c58-9bea-da87026537b6"
      },
      "execution_count": null,
      "outputs": [
        {
          "output_type": "stream",
          "name": "stdout",
          "text": [
            "13/13 [==============================] - 0s 4ms/step\n"
          ]
        }
      ]
    },
    {
      "cell_type": "code",
      "source": [
        "predictions_csv = np.argmax(predictions, axis=1)\n",
        "print(predictions_csv)"
      ],
      "metadata": {
        "id": "06J0VkhoqVUK",
        "colab": {
          "base_uri": "https://localhost:8080/"
        },
        "outputId": "65464c07-f82e-4fa3-8184-6b84d77a18af"
      },
      "execution_count": null,
      "outputs": [
        {
          "output_type": "stream",
          "name": "stdout",
          "text": [
            "[1 2 1 3 0 1 1 1 0 3 3 3 3 1 1 2 0 2 2 1 1 3 0 2 2 3 2 1 0 1 2 3 3 3 0 2 0\n",
            " 2 2 2 2 0 1 0 0 0 2 1 2 2 0 2 0 1 0 2 0 2 2 1 2 1 2 0 2 2 3 0 1 2 2 2 3 3\n",
            " 3 3 2 1 3 2 0 3 3 1 0 2 3 3 3 1 2 3 1 0 1 3 1 3 2 2 2 3 3 2 0 1 2 1 0 3 0\n",
            " 3 2 1 3 1 1 3 1 3 1 3 2 2 2 3 1 2 0 3 0 1 0 2 1 3 3 1 2 1 2 0 1 0 3 0 2 1\n",
            " 0 2 0 0 1 1 0 0 2 1 0 0 0 2 1 3 1 3 2 1 3 1 0 3 3 0 1 1 0 3 3 2 3 0 1 1 0\n",
            " 0 2 3 0 3 1 3 2 2 3 3 3 3 0 0 2 0 0 0 3 2 3 3 1 3 3 0 1 0 3 3 2 0 0 0 1 2\n",
            " 2 3 1 2 1 2 3 0 0 3 3 3 2 1 3 2 2 1 1 1 1 2 1 0 2 1 3 1 3 0 2 2 2 3 1 3 3\n",
            " 3 0 1 2 3 1 1 2 1 2 1 3 1 0 2 0 0 1 3 2 2 2 1 1 1 1 3 1 2 0 1 2 2 2 3 2 2\n",
            " 2 2 0 0 0 0 1 2 0 0 2 2 3 1 3 0 3 3 2 2 0 0 0 1 2 3 0 2 0 1 2 0 1 3 0 1 2\n",
            " 1 2 0 1 0 2 0 0 3 3 1 0 1 3 2 3 0 3 1 1 1 3 3 0 0 1 0 0 0 3 3 0 3 1 0 0 1\n",
            " 3 1 0 0 0 0 0 1 0 2 0 3 3 1 1 1 1 3 3 3 3 0 2 0 1 0 0 0 3 1]\n"
          ]
        }
      ]
    },
    {
      "cell_type": "code",
      "source": [
        "import pandas as pd\n",
        "pd.Series(predictions_csv).to_csv('./submission.csv')"
      ],
      "metadata": {
        "id": "mYFecXTKqVR9"
      },
      "execution_count": null,
      "outputs": []
    }
  ]
}