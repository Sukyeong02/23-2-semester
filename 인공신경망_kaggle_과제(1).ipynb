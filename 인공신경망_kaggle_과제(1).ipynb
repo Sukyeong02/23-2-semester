{
  "nbformat": 4,
  "nbformat_minor": 0,
  "metadata": {
    "colab": {
      "provenance": [],
      "authorship_tag": "ABX9TyMpXm7yzdL7XCUW+vHciVBJ",
      "include_colab_link": true
    },
    "kernelspec": {
      "name": "python3",
      "display_name": "Python 3"
    },
    "language_info": {
      "name": "python"
    }
  },
  "cells": [
    {
      "cell_type": "markdown",
      "metadata": {
        "id": "view-in-github",
        "colab_type": "text"
      },
      "source": [
        "<a href=\"https://colab.research.google.com/github/Sukyeong02/23-2-/blob/main/%EC%9D%B8%EA%B3%B5%EC%8B%A0%EA%B2%BD%EB%A7%9D_kaggle_%EA%B3%BC%EC%A0%9C(1).ipynb\" target=\"_parent\"><img src=\"https://colab.research.google.com/assets/colab-badge.svg\" alt=\"Open In Colab\"/></a>"
      ]
    },
    {
      "cell_type": "code",
      "source": [
        "import pandas as pd\n",
        "from sklearn.model_selection import train_test_split\n",
        "from sklearn.preprocessing import StandardScaler\n",
        "from tensorflow import keras\n",
        "from keras.models import Sequential\n",
        "from keras.layers import Dense"
      ],
      "metadata": {
        "id": "5vT4fWMlGDP2"
      },
      "execution_count": null,
      "outputs": []
    },
    {
      "cell_type": "code",
      "source": [
        "df = pd.read_csv('./train.csv')\n",
        "tf = pd.read_csv('./test.csv')"
      ],
      "metadata": {
        "id": "h_wRs4nQHxAg"
      },
      "execution_count": null,
      "outputs": []
    },
    {
      "cell_type": "code",
      "source": [
        "categorical_columns = ['Education', 'City', 'Gender', 'EverBenched']\n",
        "df = pd.get_dummies(df, columns=categorical_columns)\n",
        "tf = pd.get_dummies(tf, columns=categorical_columns)"
      ],
      "metadata": {
        "id": "dFOcQ1YmH0Ma"
      },
      "execution_count": null,
      "outputs": []
    },
    {
      "cell_type": "code",
      "source": [
        "X = df.drop('LeaveOrNot', axis=1)\n",
        "y = df['LeaveOrNot']"
      ],
      "metadata": {
        "id": "OpuUPbPOH1Xn"
      },
      "execution_count": null,
      "outputs": []
    },
    {
      "cell_type": "code",
      "source": [
        "X_train, X_test, y_train, y_test = train_test_split(X, y, test_size=0.35, random_state=42)\n"
      ],
      "metadata": {
        "id": "CWhwEwueH2Zt"
      },
      "execution_count": null,
      "outputs": []
    },
    {
      "cell_type": "code",
      "source": [
        "scaler = StandardScaler()\n",
        "X_train_scaled = scaler.fit_transform(X_train)\n",
        "X_test_scaled = scaler.transform(X_test)\n",
        "\n",
        "# 모델 정의\n",
        "model = Sequential()\n",
        "model.add(Dense(64, activation='relu', input_shape=(X_train_scaled.shape[1],)))\n",
        "model.add(Dense(32, activation='relu'))\n",
        "model.add(Dense(1, activation='sigmoid'))"
      ],
      "metadata": {
        "id": "zggf4vFBH33p"
      },
      "execution_count": null,
      "outputs": []
    },
    {
      "cell_type": "code",
      "source": [
        "model.compile(loss='binary_crossentropy', optimizer='adam', metrics=['accuracy'])"
      ],
      "metadata": {
        "id": "dD4pz1OhH7DW"
      },
      "execution_count": null,
      "outputs": []
    },
    {
      "cell_type": "code",
      "source": [
        "history = model.fit(X_train_scaled, y_train, epochs=15, batch_size=2, validation_split=0.3, verbose=2)\n",
        "\n",
        "X_test_scaled = scaler.transform(X_test)\n",
        "score = model.evaluate(X_test_scaled, y_test)\n",
        "print('Validation Accuracy: %.2f%%' % (score[1] * 100))"
      ],
      "metadata": {
        "colab": {
          "base_uri": "https://localhost:8080/"
        },
        "id": "HA2Kc9E0H8zj",
        "outputId": "d0346677-802f-45da-d461-287e40f20aef"
      },
      "execution_count": null,
      "outputs": [
        {
          "output_type": "stream",
          "name": "stdout",
          "text": [
            "Epoch 1/15\n",
            "847/847 - 3s - loss: 0.5644 - accuracy: 0.7153 - val_loss: 0.4872 - val_accuracy: 0.7645 - 3s/epoch - 4ms/step\n",
            "Epoch 2/15\n",
            "847/847 - 2s - loss: 0.4983 - accuracy: 0.7637 - val_loss: 0.4624 - val_accuracy: 0.7989 - 2s/epoch - 3ms/step\n",
            "Epoch 3/15\n",
            "847/847 - 3s - loss: 0.4621 - accuracy: 0.7944 - val_loss: 0.4424 - val_accuracy: 0.8154 - 3s/epoch - 4ms/step\n",
            "Epoch 4/15\n",
            "847/847 - 3s - loss: 0.4408 - accuracy: 0.8128 - val_loss: 0.4184 - val_accuracy: 0.8264 - 3s/epoch - 3ms/step\n",
            "Epoch 5/15\n",
            "847/847 - 2s - loss: 0.4190 - accuracy: 0.8228 - val_loss: 0.4192 - val_accuracy: 0.8196 - 2s/epoch - 2ms/step\n",
            "Epoch 6/15\n",
            "847/847 - 2s - loss: 0.4071 - accuracy: 0.8246 - val_loss: 0.4004 - val_accuracy: 0.8278 - 2s/epoch - 3ms/step\n",
            "Epoch 7/15\n",
            "847/847 - 2s - loss: 0.3891 - accuracy: 0.8393 - val_loss: 0.4160 - val_accuracy: 0.8278 - 2s/epoch - 3ms/step\n",
            "Epoch 8/15\n",
            "847/847 - 2s - loss: 0.3859 - accuracy: 0.8429 - val_loss: 0.3907 - val_accuracy: 0.8471 - 2s/epoch - 3ms/step\n",
            "Epoch 9/15\n",
            "847/847 - 3s - loss: 0.3735 - accuracy: 0.8435 - val_loss: 0.3909 - val_accuracy: 0.8320 - 3s/epoch - 4ms/step\n",
            "Epoch 10/15\n",
            "847/847 - 2s - loss: 0.3698 - accuracy: 0.8447 - val_loss: 0.3834 - val_accuracy: 0.8444 - 2s/epoch - 3ms/step\n",
            "Epoch 11/15\n",
            "847/847 - 2s - loss: 0.3587 - accuracy: 0.8541 - val_loss: 0.3919 - val_accuracy: 0.8540 - 2s/epoch - 3ms/step\n",
            "Epoch 12/15\n",
            "847/847 - 2s - loss: 0.3554 - accuracy: 0.8482 - val_loss: 0.3911 - val_accuracy: 0.8430 - 2s/epoch - 3ms/step\n",
            "Epoch 13/15\n",
            "847/847 - 2s - loss: 0.3518 - accuracy: 0.8559 - val_loss: 0.3771 - val_accuracy: 0.8512 - 2s/epoch - 2ms/step\n",
            "Epoch 14/15\n",
            "847/847 - 2s - loss: 0.3471 - accuracy: 0.8547 - val_loss: 0.3819 - val_accuracy: 0.8457 - 2s/epoch - 3ms/step\n",
            "Epoch 15/15\n",
            "847/847 - 3s - loss: 0.3387 - accuracy: 0.8594 - val_loss: 0.3756 - val_accuracy: 0.8430 - 3s/epoch - 4ms/step\n",
            "41/41 [==============================] - 0s 3ms/step - loss: 0.3931 - accuracy: 0.8350\n",
            "Validation Accuracy: 83.50%\n"
          ]
        }
      ]
    },
    {
      "cell_type": "code",
      "source": [
        "tf_scaled = scaler.transform(tf)  # 테스트 데이터도 스케일링\n",
        "predictions = model.predict(tf_scaled)"
      ],
      "metadata": {
        "colab": {
          "base_uri": "https://localhost:8080/"
        },
        "id": "Rv39vfsoIDz1",
        "outputId": "8fe0ba9c-1961-4491-c0ed-ab76a1a923b0"
      },
      "execution_count": null,
      "outputs": [
        {
          "output_type": "stream",
          "name": "stdout",
          "text": [
            "30/30 [==============================] - 0s 2ms/step\n"
          ]
        }
      ]
    },
    {
      "cell_type": "code",
      "source": [
        "binary_predictions = (predictions > 0.5).astype(int)"
      ],
      "metadata": {
        "id": "Q288QVAUIPAJ"
      },
      "execution_count": null,
      "outputs": []
    },
    {
      "cell_type": "code",
      "source": [
        "submission_df = pd.DataFrame({'LeaveOrNot_Predicted': binary_predictions.flatten()})\n",
        "submission_df.to_csv('submission.csv', index=False)"
      ],
      "metadata": {
        "id": "njHPBgB7IQPC"
      },
      "execution_count": null,
      "outputs": []
    },
    {
      "cell_type": "code",
      "source": [],
      "metadata": {
        "id": "9J-fWaqtKrO6"
      },
      "execution_count": null,
      "outputs": []
    }
  ]
}