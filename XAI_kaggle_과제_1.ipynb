{
  "cells": [
    {
      "cell_type": "markdown",
      "metadata": {
        "id": "view-in-github",
        "colab_type": "text"
      },
      "source": [
        "<a href=\"https://colab.research.google.com/github/Sukyeong02/23-2-semester/blob/main/XAI_kaggle_%EA%B3%BC%EC%A0%9C_1.ipynb\" target=\"_parent\"><img src=\"https://colab.research.google.com/assets/colab-badge.svg\" alt=\"Open In Colab\"/></a>"
      ]
    },
    {
      "cell_type": "code",
      "execution_count": null,
      "id": "1e50680a-700f-4006-bc74-a2aeeb24d5f8",
      "metadata": {
        "id": "1e50680a-700f-4006-bc74-a2aeeb24d5f8"
      },
      "outputs": [],
      "source": [
        "import pandas as pd\n",
        "import numpy as np\n",
        "import matplotlib.pyplot as plt"
      ]
    },
    {
      "cell_type": "code",
      "execution_count": null,
      "id": "16b579bb-6e2f-4d89-a06f-c4947729f263",
      "metadata": {
        "id": "16b579bb-6e2f-4d89-a06f-c4947729f263"
      },
      "outputs": [],
      "source": [
        "import csv\n",
        "f = open('train.csv', 'r')\n",
        "data = csv.reader(f)\n",
        "\n",
        "header = next(data)\n",
        "\n",
        "p_kcm = []\n",
        "p_troponin = []\n",
        "n_kcm = []\n",
        "n_troponin = []\n",
        "\n",
        "for row in data:\n",
        "    if row[8] == \"1\":\n",
        "        p_kcm.append(float(row[6]))\n",
        "        p_troponin.append(float(row[7]))\n",
        "    if row[8] == \"0\":\n",
        "        n_kcm.append(float(row[6]))\n",
        "        n_troponin.append(float(row[7]))\n",
        "\n",
        "f.close()"
      ]
    },
    {
      "cell_type": "code",
      "execution_count": null,
      "id": "72f5a893-079c-49a0-b3c2-e8e2bc1eaa6c",
      "metadata": {
        "id": "72f5a893-079c-49a0-b3c2-e8e2bc1eaa6c",
        "outputId": "9c975efa-efa2-4102-f17c-d7f756b98b57"
      },
      "outputs": [
        {
          "name": "stdout",
          "output_type": "stream",
          "text": [
            "p_kcm: 648\n",
            "n_kcm: 407\n",
            "p_troponin: 648\n",
            "n_troponin: 407\n",
            "총: 1055\n",
            "총2: 1055\n"
          ]
        }
      ],
      "source": [
        "print('p_kcm:', len(p_kcm))\n",
        "print('n_kcm:', len(n_kcm))\n",
        "print('p_troponin:', len(p_troponin))\n",
        "print('n_troponin:', len(n_troponin))\n",
        "\n",
        "troponin = p_troponin + n_troponin\n",
        "kcm = p_kcm + n_kcm\n",
        "\n",
        "print('총:', len(kcm))\n",
        "print('총2:', len(troponin))"
      ]
    },
    {
      "cell_type": "code",
      "execution_count": null,
      "id": "bdefcb48-06d7-4f72-aeb2-3d7e983df39f",
      "metadata": {
        "id": "bdefcb48-06d7-4f72-aeb2-3d7e983df39f"
      },
      "outputs": [],
      "source": [
        "x = [[l,w] for l,w in zip(kcm, troponin)]\n",
        "y = [1] * 648 + [0] * 407"
      ]
    },
    {
      "cell_type": "code",
      "execution_count": null,
      "id": "3282b6ab-e3d9-4ee2-8d5e-1946a6e19b45",
      "metadata": {
        "id": "3282b6ab-e3d9-4ee2-8d5e-1946a6e19b45"
      },
      "outputs": [],
      "source": [
        "x_train = x[0:648]\n",
        "y_train = y[0:648]\n",
        "\n",
        "x_test = x[648:]\n",
        "y_test = y[648:]"
      ]
    },
    {
      "cell_type": "code",
      "execution_count": null,
      "id": "97ff09cc-9417-45b2-bb8b-f2ce9293bdb1",
      "metadata": {
        "id": "97ff09cc-9417-45b2-bb8b-f2ce9293bdb1",
        "outputId": "823659dd-8a2e-4161-ef3e-88be546f314d"
      },
      "outputs": [
        {
          "data": {
            "text/plain": [
              "0.0"
            ]
          },
          "execution_count": 7,
          "metadata": {},
          "output_type": "execute_result"
        }
      ],
      "source": [
        "from sklearn.neighbors import KNeighborsClassifier\n",
        "\n",
        "kn = KNeighborsClassifier()\n",
        "kn.fit(x_train, y_train)\n",
        "kn.score(x_test, y_test)"
      ]
    },
    {
      "cell_type": "code",
      "execution_count": null,
      "id": "2cb32e21-dd82-4be1-ae6c-87ba1989476d",
      "metadata": {
        "id": "2cb32e21-dd82-4be1-ae6c-87ba1989476d",
        "outputId": "77cc304b-151d-4c53-d460-ce0f06238c6f"
      },
      "outputs": [
        {
          "name": "stdout",
          "output_type": "stream",
          "text": [
            "섞기전: [  0   1   2   3   4   5   6   7   8   9  10  11  12  13  14  15  16  17\n",
            "  18  19  20  21  22  23  24  25  26  27  28  29  30  31  32  33  34  35\n",
            "  36  37  38  39  40  41  42  43  44  45  46  47  48  49  50  51  52  53\n",
            "  54  55  56  57  58  59  60  61  62  63  64  65  66  67  68  69  70  71\n",
            "  72  73  74  75  76  77  78  79  80  81  82  83  84  85  86  87  88  89\n",
            "  90  91  92  93  94  95  96  97  98  99 100 101 102 103 104 105 106 107\n",
            " 108 109 110 111 112 113 114 115 116 117 118 119 120 121 122 123 124 125\n",
            " 126 127 128 129 130 131 132 133 134 135 136 137 138 139 140 141 142 143\n",
            " 144 145 146 147 148 149 150 151 152 153 154 155 156 157 158 159 160 161\n",
            " 162 163 164 165 166 167 168 169 170 171 172 173 174 175 176 177 178 179\n",
            " 180 181 182 183 184 185 186 187 188 189 190 191 192 193 194 195 196 197\n",
            " 198 199 200 201 202 203 204 205 206 207 208 209 210 211 212 213 214 215\n",
            " 216 217 218 219 220 221 222 223 224 225 226 227 228 229 230 231 232 233\n",
            " 234 235 236 237 238 239 240 241 242 243 244 245 246 247 248 249 250 251\n",
            " 252 253 254 255 256 257 258 259 260 261 262 263]\n",
            "(1055, 2)\n",
            "(1055,)\n",
            "(264, 2)\n",
            "(264,)\n"
          ]
        }
      ],
      "source": [
        "import numpy as np\n",
        "x_arr = np.array(x)\n",
        "y_arr = np.array(y)\n",
        "\n",
        "np.random.seed(42)\n",
        "index = np.arange(264)\n",
        "print('섞기전:', index)\n",
        "\n",
        "np.random.shuffle(index)\n",
        "x_shuffled = x_arr[index]\n",
        "y_shuffled = y_arr[index]\n",
        "\n",
        "print(x_arr.shape)\n",
        "print(y_arr.shape)\n",
        "print(x_shuffled.shape)\n",
        "print(y_shuffled.shape)"
      ]
    },
    {
      "cell_type": "code",
      "execution_count": null,
      "id": "1a97b615-b148-4458-a177-b4ee9fd92ca9",
      "metadata": {
        "id": "1a97b615-b148-4458-a177-b4ee9fd92ca9"
      },
      "outputs": [],
      "source": [
        "from sklearn.model_selection import train_test_split\n",
        "\n",
        "x_train, x_test, y_train, y_test = train_test_split(x_arr, y_arr, test_size=0.25, stratify=y, random_state=42)"
      ]
    },
    {
      "cell_type": "code",
      "execution_count": null,
      "id": "d1cbd8ec-0002-466b-96d3-7570a9ed87ba",
      "metadata": {
        "id": "d1cbd8ec-0002-466b-96d3-7570a9ed87ba",
        "outputId": "a6f093f1-56a5-44e2-ba32-cfc230b88072"
      },
      "outputs": [
        {
          "name": "stdout",
          "output_type": "stream",
          "text": [
            "[15.20504678  0.35809608] [48.31956877  1.15080796]\n"
          ]
        }
      ],
      "source": [
        "mean = np.mean(x_train, axis=0)\n",
        "std = np.std(x_train, axis=0)\n",
        "print(mean, std)"
      ]
    },
    {
      "cell_type": "code",
      "execution_count": null,
      "id": "b3ae8e10-48b1-499c-8478-1aafeda1b889",
      "metadata": {
        "id": "b3ae8e10-48b1-499c-8478-1aafeda1b889"
      },
      "outputs": [],
      "source": [
        "x_train_scaled = (x_train - mean)/std"
      ]
    },
    {
      "cell_type": "code",
      "execution_count": null,
      "id": "99ceb45a-b72d-4b72-bb7a-16755e7c00bd",
      "metadata": {
        "id": "99ceb45a-b72d-4b72-bb7a-16755e7c00bd",
        "outputId": "d2348d61-dd51-496f-b7a4-d7f52dc8a39e"
      },
      "outputs": [
        {
          "data": {
            "text/plain": [
              "0.9772727272727273"
            ]
          },
          "execution_count": 12,
          "metadata": {},
          "output_type": "execute_result"
        }
      ],
      "source": [
        "knr = KNeighborsClassifier(n_neighbors=3)\n",
        "knr.fit(x_train_scaled, y_train)\n",
        "x_test_scaled = (x_test - mean)/std\n",
        "knr.score(x_test_scaled, y_test)"
      ]
    },
    {
      "cell_type": "code",
      "execution_count": null,
      "id": "2ae714d8-380e-486a-8a27-3337458a9944",
      "metadata": {
        "id": "2ae714d8-380e-486a-8a27-3337458a9944"
      },
      "outputs": [],
      "source": [
        "import pandas as pd\n",
        "test_data = pd.read_csv('test.csv')"
      ]
    },
    {
      "cell_type": "code",
      "execution_count": null,
      "id": "8562d66a-40fe-447b-90c2-7ae7f15062e4",
      "metadata": {
        "id": "8562d66a-40fe-447b-90c2-7ae7f15062e4",
        "outputId": "2d4a895c-3887-4747-dd0d-faefa8d5ea91"
      },
      "outputs": [
        {
          "name": "stdout",
          "output_type": "stream",
          "text": [
            "[15.20504678  0.35809608] [48.31956877  1.15080796]\n"
          ]
        }
      ],
      "source": [
        "mean = np.mean(x_train, axis=0)\n",
        "std = np.std(x_train, axis=0)\n",
        "print(mean, std)"
      ]
    },
    {
      "cell_type": "code",
      "execution_count": null,
      "id": "31304563-35fa-4bd6-a195-38fc56ca0fef",
      "metadata": {
        "id": "31304563-35fa-4bd6-a195-38fc56ca0fef"
      },
      "outputs": [],
      "source": [
        "X_test = test_data[['kcm','troponin']]"
      ]
    },
    {
      "cell_type": "code",
      "execution_count": null,
      "id": "46924f15-a520-45ee-9248-e7b4b2368d35",
      "metadata": {
        "id": "46924f15-a520-45ee-9248-e7b4b2368d35"
      },
      "outputs": [],
      "source": [
        "X_test_scaled = (X_test - mean)/std"
      ]
    },
    {
      "cell_type": "code",
      "execution_count": null,
      "id": "41a52eeb-138e-4d6f-9e0f-a68264960e56",
      "metadata": {
        "id": "41a52eeb-138e-4d6f-9e0f-a68264960e56"
      },
      "outputs": [],
      "source": [
        "predictions = knr.predict(X_test_scaled)"
      ]
    },
    {
      "cell_type": "code",
      "execution_count": null,
      "id": "6dd95e26-11f5-4199-8252-e6a75fe77029",
      "metadata": {
        "id": "6dd95e26-11f5-4199-8252-e6a75fe77029"
      },
      "outputs": [],
      "source": [
        "submission_data = pd.read_csv('submission.csv')\n",
        "submission_data['class'] = predictions"
      ]
    },
    {
      "cell_type": "code",
      "execution_count": null,
      "id": "a13a9a96-6b62-48ee-87e8-c7008d88c223",
      "metadata": {
        "id": "a13a9a96-6b62-48ee-87e8-c7008d88c223"
      },
      "outputs": [],
      "source": [
        "submission_data.to_csv('submission.csv', index=False)"
      ]
    }
  ],
  "metadata": {
    "kernelspec": {
      "display_name": "Python 3",
      "language": "python",
      "name": "python3"
    },
    "language_info": {
      "codemirror_mode": {
        "name": "ipython",
        "version": 3
      },
      "file_extension": ".py",
      "mimetype": "text/x-python",
      "name": "python",
      "nbconvert_exporter": "python",
      "pygments_lexer": "ipython3",
      "version": "3.8.8"
    },
    "colab": {
      "provenance": [],
      "include_colab_link": true
    }
  },
  "nbformat": 4,
  "nbformat_minor": 5
}